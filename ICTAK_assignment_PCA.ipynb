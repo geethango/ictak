{
  "nbformat": 4,
  "nbformat_minor": 0,
  "metadata": {
    "colab": {
      "provenance": []
    },
    "kernelspec": {
      "name": "python3",
      "display_name": "Python 3"
    },
    "language_info": {
      "name": "python"
    }
  },
  "cells": [
    {
      "cell_type": "code",
      "execution_count": 120,
      "metadata": {
        "id": "UCUUmHIayHJ9"
      },
      "outputs": [],
      "source": [
        "import numpy as np\n",
        "import pandas as pd\n",
        "import matplotlib.pyplot as plt\n",
        " "
      ]
    },
    {
      "cell_type": "code",
      "source": [
        "data=pd.read_csv(\"/content/NCI60_X (1).csv\")"
      ],
      "metadata": {
        "id": "Y4cZG-i8yf2u"
      },
      "execution_count": 121,
      "outputs": []
    },
    {
      "cell_type": "code",
      "source": [
        "data.head()"
      ],
      "metadata": {
        "colab": {
          "base_uri": "https://localhost:8080/",
          "height": 369
        },
        "id": "BNk-XaUVyuyC",
        "outputId": "32be3042-da28-4e4e-8f16-5ebcb8746562"
      },
      "execution_count": 122,
      "outputs": [
        {
          "output_type": "execute_result",
          "data": {
            "text/plain": [
              "  Unnamed: 0         1         2         3         4         5             6  \\\n",
              "0         V1  0.300000  1.180000  0.550000  1.140000 -0.265000 -7.000000e-02   \n",
              "1         V2  0.679961  1.289961  0.169961  0.379961  0.464961  5.799610e-01   \n",
              "2         V3  0.940000 -0.040000 -0.170000 -0.040000 -0.605000  0.000000e+00   \n",
              "3         V4  0.280000 -0.310000  0.680000 -0.810000  0.625000 -1.387779e-17   \n",
              "4         V5  0.485000 -0.465000  0.395000  0.905000  0.200000 -5.000000e-03   \n",
              "\n",
              "          7         8         9  ...      6821      6822      6823      6824  \\\n",
              "0  0.350000 -0.315000 -0.450000  ... -0.990020  0.000000  0.030000 -0.175000   \n",
              "1  0.699961  0.724961 -0.040039  ... -0.270058 -0.300039 -0.250039 -0.535039   \n",
              "2  0.090000  0.645000  0.430000  ...  0.319981  0.120000 -0.740000 -0.595000   \n",
              "3  0.170000  0.245000  0.020000  ... -1.240020 -0.110000 -0.160000  0.095000   \n",
              "4  0.085000  0.110000  0.235000  ...  0.554980 -0.775000 -0.515000 -0.320000   \n",
              "\n",
              "       6825      6826      6827      6828      6829      6830  \n",
              "0  0.629981 -0.030000  0.000000  0.280000 -0.340000 -1.930000  \n",
              "1  0.109941 -0.860039 -1.250049 -0.770039 -0.390039 -2.000039  \n",
              "2 -0.270020 -0.150000  0.000000 -0.120000 -0.410000  0.000000  \n",
              "3 -0.350019 -0.300000 -1.150010  1.090000 -0.260000 -1.100000  \n",
              "4  0.634980  0.605000  0.000000  0.745000  0.425000  0.145000  \n",
              "\n",
              "[5 rows x 6831 columns]"
            ],
            "text/html": [
              "\n",
              "  <div id=\"df-f5662d1d-4b35-4f78-841b-fb46b9780f93\">\n",
              "    <div class=\"colab-df-container\">\n",
              "      <div>\n",
              "<style scoped>\n",
              "    .dataframe tbody tr th:only-of-type {\n",
              "        vertical-align: middle;\n",
              "    }\n",
              "\n",
              "    .dataframe tbody tr th {\n",
              "        vertical-align: top;\n",
              "    }\n",
              "\n",
              "    .dataframe thead th {\n",
              "        text-align: right;\n",
              "    }\n",
              "</style>\n",
              "<table border=\"1\" class=\"dataframe\">\n",
              "  <thead>\n",
              "    <tr style=\"text-align: right;\">\n",
              "      <th></th>\n",
              "      <th>Unnamed: 0</th>\n",
              "      <th>1</th>\n",
              "      <th>2</th>\n",
              "      <th>3</th>\n",
              "      <th>4</th>\n",
              "      <th>5</th>\n",
              "      <th>6</th>\n",
              "      <th>7</th>\n",
              "      <th>8</th>\n",
              "      <th>9</th>\n",
              "      <th>...</th>\n",
              "      <th>6821</th>\n",
              "      <th>6822</th>\n",
              "      <th>6823</th>\n",
              "      <th>6824</th>\n",
              "      <th>6825</th>\n",
              "      <th>6826</th>\n",
              "      <th>6827</th>\n",
              "      <th>6828</th>\n",
              "      <th>6829</th>\n",
              "      <th>6830</th>\n",
              "    </tr>\n",
              "  </thead>\n",
              "  <tbody>\n",
              "    <tr>\n",
              "      <th>0</th>\n",
              "      <td>V1</td>\n",
              "      <td>0.300000</td>\n",
              "      <td>1.180000</td>\n",
              "      <td>0.550000</td>\n",
              "      <td>1.140000</td>\n",
              "      <td>-0.265000</td>\n",
              "      <td>-7.000000e-02</td>\n",
              "      <td>0.350000</td>\n",
              "      <td>-0.315000</td>\n",
              "      <td>-0.450000</td>\n",
              "      <td>...</td>\n",
              "      <td>-0.990020</td>\n",
              "      <td>0.000000</td>\n",
              "      <td>0.030000</td>\n",
              "      <td>-0.175000</td>\n",
              "      <td>0.629981</td>\n",
              "      <td>-0.030000</td>\n",
              "      <td>0.000000</td>\n",
              "      <td>0.280000</td>\n",
              "      <td>-0.340000</td>\n",
              "      <td>-1.930000</td>\n",
              "    </tr>\n",
              "    <tr>\n",
              "      <th>1</th>\n",
              "      <td>V2</td>\n",
              "      <td>0.679961</td>\n",
              "      <td>1.289961</td>\n",
              "      <td>0.169961</td>\n",
              "      <td>0.379961</td>\n",
              "      <td>0.464961</td>\n",
              "      <td>5.799610e-01</td>\n",
              "      <td>0.699961</td>\n",
              "      <td>0.724961</td>\n",
              "      <td>-0.040039</td>\n",
              "      <td>...</td>\n",
              "      <td>-0.270058</td>\n",
              "      <td>-0.300039</td>\n",
              "      <td>-0.250039</td>\n",
              "      <td>-0.535039</td>\n",
              "      <td>0.109941</td>\n",
              "      <td>-0.860039</td>\n",
              "      <td>-1.250049</td>\n",
              "      <td>-0.770039</td>\n",
              "      <td>-0.390039</td>\n",
              "      <td>-2.000039</td>\n",
              "    </tr>\n",
              "    <tr>\n",
              "      <th>2</th>\n",
              "      <td>V3</td>\n",
              "      <td>0.940000</td>\n",
              "      <td>-0.040000</td>\n",
              "      <td>-0.170000</td>\n",
              "      <td>-0.040000</td>\n",
              "      <td>-0.605000</td>\n",
              "      <td>0.000000e+00</td>\n",
              "      <td>0.090000</td>\n",
              "      <td>0.645000</td>\n",
              "      <td>0.430000</td>\n",
              "      <td>...</td>\n",
              "      <td>0.319981</td>\n",
              "      <td>0.120000</td>\n",
              "      <td>-0.740000</td>\n",
              "      <td>-0.595000</td>\n",
              "      <td>-0.270020</td>\n",
              "      <td>-0.150000</td>\n",
              "      <td>0.000000</td>\n",
              "      <td>-0.120000</td>\n",
              "      <td>-0.410000</td>\n",
              "      <td>0.000000</td>\n",
              "    </tr>\n",
              "    <tr>\n",
              "      <th>3</th>\n",
              "      <td>V4</td>\n",
              "      <td>0.280000</td>\n",
              "      <td>-0.310000</td>\n",
              "      <td>0.680000</td>\n",
              "      <td>-0.810000</td>\n",
              "      <td>0.625000</td>\n",
              "      <td>-1.387779e-17</td>\n",
              "      <td>0.170000</td>\n",
              "      <td>0.245000</td>\n",
              "      <td>0.020000</td>\n",
              "      <td>...</td>\n",
              "      <td>-1.240020</td>\n",
              "      <td>-0.110000</td>\n",
              "      <td>-0.160000</td>\n",
              "      <td>0.095000</td>\n",
              "      <td>-0.350019</td>\n",
              "      <td>-0.300000</td>\n",
              "      <td>-1.150010</td>\n",
              "      <td>1.090000</td>\n",
              "      <td>-0.260000</td>\n",
              "      <td>-1.100000</td>\n",
              "    </tr>\n",
              "    <tr>\n",
              "      <th>4</th>\n",
              "      <td>V5</td>\n",
              "      <td>0.485000</td>\n",
              "      <td>-0.465000</td>\n",
              "      <td>0.395000</td>\n",
              "      <td>0.905000</td>\n",
              "      <td>0.200000</td>\n",
              "      <td>-5.000000e-03</td>\n",
              "      <td>0.085000</td>\n",
              "      <td>0.110000</td>\n",
              "      <td>0.235000</td>\n",
              "      <td>...</td>\n",
              "      <td>0.554980</td>\n",
              "      <td>-0.775000</td>\n",
              "      <td>-0.515000</td>\n",
              "      <td>-0.320000</td>\n",
              "      <td>0.634980</td>\n",
              "      <td>0.605000</td>\n",
              "      <td>0.000000</td>\n",
              "      <td>0.745000</td>\n",
              "      <td>0.425000</td>\n",
              "      <td>0.145000</td>\n",
              "    </tr>\n",
              "  </tbody>\n",
              "</table>\n",
              "<p>5 rows × 6831 columns</p>\n",
              "</div>\n",
              "      <button class=\"colab-df-convert\" onclick=\"convertToInteractive('df-f5662d1d-4b35-4f78-841b-fb46b9780f93')\"\n",
              "              title=\"Convert this dataframe to an interactive table.\"\n",
              "              style=\"display:none;\">\n",
              "        \n",
              "  <svg xmlns=\"http://www.w3.org/2000/svg\" height=\"24px\"viewBox=\"0 0 24 24\"\n",
              "       width=\"24px\">\n",
              "    <path d=\"M0 0h24v24H0V0z\" fill=\"none\"/>\n",
              "    <path d=\"M18.56 5.44l.94 2.06.94-2.06 2.06-.94-2.06-.94-.94-2.06-.94 2.06-2.06.94zm-11 1L8.5 8.5l.94-2.06 2.06-.94-2.06-.94L8.5 2.5l-.94 2.06-2.06.94zm10 10l.94 2.06.94-2.06 2.06-.94-2.06-.94-.94-2.06-.94 2.06-2.06.94z\"/><path d=\"M17.41 7.96l-1.37-1.37c-.4-.4-.92-.59-1.43-.59-.52 0-1.04.2-1.43.59L10.3 9.45l-7.72 7.72c-.78.78-.78 2.05 0 2.83L4 21.41c.39.39.9.59 1.41.59.51 0 1.02-.2 1.41-.59l7.78-7.78 2.81-2.81c.8-.78.8-2.07 0-2.86zM5.41 20L4 18.59l7.72-7.72 1.47 1.35L5.41 20z\"/>\n",
              "  </svg>\n",
              "      </button>\n",
              "      \n",
              "  <style>\n",
              "    .colab-df-container {\n",
              "      display:flex;\n",
              "      flex-wrap:wrap;\n",
              "      gap: 12px;\n",
              "    }\n",
              "\n",
              "    .colab-df-convert {\n",
              "      background-color: #E8F0FE;\n",
              "      border: none;\n",
              "      border-radius: 50%;\n",
              "      cursor: pointer;\n",
              "      display: none;\n",
              "      fill: #1967D2;\n",
              "      height: 32px;\n",
              "      padding: 0 0 0 0;\n",
              "      width: 32px;\n",
              "    }\n",
              "\n",
              "    .colab-df-convert:hover {\n",
              "      background-color: #E2EBFA;\n",
              "      box-shadow: 0px 1px 2px rgba(60, 64, 67, 0.3), 0px 1px 3px 1px rgba(60, 64, 67, 0.15);\n",
              "      fill: #174EA6;\n",
              "    }\n",
              "\n",
              "    [theme=dark] .colab-df-convert {\n",
              "      background-color: #3B4455;\n",
              "      fill: #D2E3FC;\n",
              "    }\n",
              "\n",
              "    [theme=dark] .colab-df-convert:hover {\n",
              "      background-color: #434B5C;\n",
              "      box-shadow: 0px 1px 3px 1px rgba(0, 0, 0, 0.15);\n",
              "      filter: drop-shadow(0px 1px 2px rgba(0, 0, 0, 0.3));\n",
              "      fill: #FFFFFF;\n",
              "    }\n",
              "  </style>\n",
              "\n",
              "      <script>\n",
              "        const buttonEl =\n",
              "          document.querySelector('#df-f5662d1d-4b35-4f78-841b-fb46b9780f93 button.colab-df-convert');\n",
              "        buttonEl.style.display =\n",
              "          google.colab.kernel.accessAllowed ? 'block' : 'none';\n",
              "\n",
              "        async function convertToInteractive(key) {\n",
              "          const element = document.querySelector('#df-f5662d1d-4b35-4f78-841b-fb46b9780f93');\n",
              "          const dataTable =\n",
              "            await google.colab.kernel.invokeFunction('convertToInteractive',\n",
              "                                                     [key], {});\n",
              "          if (!dataTable) return;\n",
              "\n",
              "          const docLinkHtml = 'Like what you see? Visit the ' +\n",
              "            '<a target=\"_blank\" href=https://colab.research.google.com/notebooks/data_table.ipynb>data table notebook</a>'\n",
              "            + ' to learn more about interactive tables.';\n",
              "          element.innerHTML = '';\n",
              "          dataTable['output_type'] = 'display_data';\n",
              "          await google.colab.output.renderOutput(dataTable, element);\n",
              "          const docLink = document.createElement('div');\n",
              "          docLink.innerHTML = docLinkHtml;\n",
              "          element.appendChild(docLink);\n",
              "        }\n",
              "      </script>\n",
              "    </div>\n",
              "  </div>\n",
              "  "
            ]
          },
          "metadata": {},
          "execution_count": 122
        }
      ]
    },
    {
      "cell_type": "code",
      "source": [
        "data.columns"
      ],
      "metadata": {
        "colab": {
          "base_uri": "https://localhost:8080/"
        },
        "id": "UOH4Jd0o0Jj4",
        "outputId": "a79dceb7-2dbe-4bca-cb0f-86ad39c7c558"
      },
      "execution_count": 123,
      "outputs": [
        {
          "output_type": "execute_result",
          "data": {
            "text/plain": [
              "Index(['Unnamed: 0', '1', '2', '3', '4', '5', '6', '7', '8', '9',\n",
              "       ...\n",
              "       '6821', '6822', '6823', '6824', '6825', '6826', '6827', '6828', '6829',\n",
              "       '6830'],\n",
              "      dtype='object', length=6831)"
            ]
          },
          "metadata": {},
          "execution_count": 123
        }
      ]
    },
    {
      "cell_type": "code",
      "source": [
        "data.shape"
      ],
      "metadata": {
        "colab": {
          "base_uri": "https://localhost:8080/"
        },
        "id": "COwZjAauy3j7",
        "outputId": "48f869e2-845c-4f44-ff35-294109694f0d"
      },
      "execution_count": 124,
      "outputs": [
        {
          "output_type": "execute_result",
          "data": {
            "text/plain": [
              "(64, 6831)"
            ]
          },
          "metadata": {},
          "execution_count": 124
        }
      ]
    },
    {
      "cell_type": "code",
      "source": [
        "data.describe()"
      ],
      "metadata": {
        "colab": {
          "base_uri": "https://localhost:8080/",
          "height": 393
        },
        "id": "rWSI4Ke0zlzN",
        "outputId": "74bdcc85-e34f-43c2-a673-ee7acc445b5c"
      },
      "execution_count": 125,
      "outputs": [
        {
          "output_type": "execute_result",
          "data": {
            "text/plain": [
              "               1          2          3          4          5          6  \\\n",
              "count  64.000000  64.000000  64.000000  64.000000  64.000000  64.000000   \n",
              "mean   -0.019063  -0.027813  -0.019923  -0.328673   0.026093   0.006718   \n",
              "std     0.441332   0.757433   0.433306   1.091905   0.485073   0.350432   \n",
              "min    -1.060000  -2.190000  -1.710000  -2.610000  -0.825000  -0.700000   \n",
              "25%    -0.372500  -0.404985  -0.192485  -1.322500  -0.225000  -0.156250   \n",
              "50%     0.000000   0.000000   0.000000   0.000000   0.000000   0.000000   \n",
              "75%     0.310005   0.352500   0.162490   0.692500   0.210000   0.184995   \n",
              "max     0.940000   2.240000   1.150000   1.500000   1.715000   1.160000   \n",
              "\n",
              "               7          8          9         10  ...       6821       6822  \\\n",
              "count  64.000000  64.000000  64.000000  64.000000  ...  64.000000  64.000000   \n",
              "mean    0.019687  -0.023126   0.000780   0.019237  ...  -0.079551   0.402577   \n",
              "std     0.370683   0.338629   0.429188   0.641583  ...   0.890365   1.131769   \n",
              "min    -0.920000  -0.705000  -0.900000  -1.654981  ...  -1.850020  -0.775000   \n",
              "25%    -0.246250  -0.204985  -0.360000  -0.477466  ...  -0.660019  -0.177500   \n",
              "50%     0.000000   0.000000   0.000000   0.000000  ...   0.000000   0.000000   \n",
              "75%     0.247505   0.160015   0.295000   0.467519  ...   0.304980   0.560000   \n",
              "max     0.940000   0.724961   0.990000   1.490019  ...   2.929980   5.200000   \n",
              "\n",
              "            6823       6824       6825       6826       6827       6828  \\\n",
              "count  64.000000  64.000000  64.000000  64.000000  64.000000  64.000000   \n",
              "mean    0.295077   0.171093   0.101152   0.153671   0.090775  -0.126798   \n",
              "std     1.121419   0.888764   0.641122   0.924292   1.209138   0.787136   \n",
              "min    -1.150000  -2.095000  -1.390020  -1.330000  -2.030010  -1.700000   \n",
              "25%    -0.327500  -0.328750  -0.232519  -0.330000  -0.602510  -0.682500   \n",
              "50%     0.000000   0.000000   0.000000   0.000000   0.000000   0.000000   \n",
              "75%     0.422500   0.427500   0.302480   0.325000   0.134995   0.302505   \n",
              "max     5.510000   3.995000   2.899980   4.600000   5.339990   2.560000   \n",
              "\n",
              "            6829       6830  \n",
              "count  64.000000  64.000000  \n",
              "mean    0.129921   0.143514  \n",
              "std     0.566303   1.509312  \n",
              "min    -0.910000  -2.830000  \n",
              "25%    -0.275000  -1.100000  \n",
              "50%     0.000000   0.000000  \n",
              "75%     0.451255   1.250000  \n",
              "max     2.030000   3.940000  \n",
              "\n",
              "[8 rows x 6830 columns]"
            ],
            "text/html": [
              "\n",
              "  <div id=\"df-6aa7b418-88c5-4971-a2a0-65cb2dfb8b52\">\n",
              "    <div class=\"colab-df-container\">\n",
              "      <div>\n",
              "<style scoped>\n",
              "    .dataframe tbody tr th:only-of-type {\n",
              "        vertical-align: middle;\n",
              "    }\n",
              "\n",
              "    .dataframe tbody tr th {\n",
              "        vertical-align: top;\n",
              "    }\n",
              "\n",
              "    .dataframe thead th {\n",
              "        text-align: right;\n",
              "    }\n",
              "</style>\n",
              "<table border=\"1\" class=\"dataframe\">\n",
              "  <thead>\n",
              "    <tr style=\"text-align: right;\">\n",
              "      <th></th>\n",
              "      <th>1</th>\n",
              "      <th>2</th>\n",
              "      <th>3</th>\n",
              "      <th>4</th>\n",
              "      <th>5</th>\n",
              "      <th>6</th>\n",
              "      <th>7</th>\n",
              "      <th>8</th>\n",
              "      <th>9</th>\n",
              "      <th>10</th>\n",
              "      <th>...</th>\n",
              "      <th>6821</th>\n",
              "      <th>6822</th>\n",
              "      <th>6823</th>\n",
              "      <th>6824</th>\n",
              "      <th>6825</th>\n",
              "      <th>6826</th>\n",
              "      <th>6827</th>\n",
              "      <th>6828</th>\n",
              "      <th>6829</th>\n",
              "      <th>6830</th>\n",
              "    </tr>\n",
              "  </thead>\n",
              "  <tbody>\n",
              "    <tr>\n",
              "      <th>count</th>\n",
              "      <td>64.000000</td>\n",
              "      <td>64.000000</td>\n",
              "      <td>64.000000</td>\n",
              "      <td>64.000000</td>\n",
              "      <td>64.000000</td>\n",
              "      <td>64.000000</td>\n",
              "      <td>64.000000</td>\n",
              "      <td>64.000000</td>\n",
              "      <td>64.000000</td>\n",
              "      <td>64.000000</td>\n",
              "      <td>...</td>\n",
              "      <td>64.000000</td>\n",
              "      <td>64.000000</td>\n",
              "      <td>64.000000</td>\n",
              "      <td>64.000000</td>\n",
              "      <td>64.000000</td>\n",
              "      <td>64.000000</td>\n",
              "      <td>64.000000</td>\n",
              "      <td>64.000000</td>\n",
              "      <td>64.000000</td>\n",
              "      <td>64.000000</td>\n",
              "    </tr>\n",
              "    <tr>\n",
              "      <th>mean</th>\n",
              "      <td>-0.019063</td>\n",
              "      <td>-0.027813</td>\n",
              "      <td>-0.019923</td>\n",
              "      <td>-0.328673</td>\n",
              "      <td>0.026093</td>\n",
              "      <td>0.006718</td>\n",
              "      <td>0.019687</td>\n",
              "      <td>-0.023126</td>\n",
              "      <td>0.000780</td>\n",
              "      <td>0.019237</td>\n",
              "      <td>...</td>\n",
              "      <td>-0.079551</td>\n",
              "      <td>0.402577</td>\n",
              "      <td>0.295077</td>\n",
              "      <td>0.171093</td>\n",
              "      <td>0.101152</td>\n",
              "      <td>0.153671</td>\n",
              "      <td>0.090775</td>\n",
              "      <td>-0.126798</td>\n",
              "      <td>0.129921</td>\n",
              "      <td>0.143514</td>\n",
              "    </tr>\n",
              "    <tr>\n",
              "      <th>std</th>\n",
              "      <td>0.441332</td>\n",
              "      <td>0.757433</td>\n",
              "      <td>0.433306</td>\n",
              "      <td>1.091905</td>\n",
              "      <td>0.485073</td>\n",
              "      <td>0.350432</td>\n",
              "      <td>0.370683</td>\n",
              "      <td>0.338629</td>\n",
              "      <td>0.429188</td>\n",
              "      <td>0.641583</td>\n",
              "      <td>...</td>\n",
              "      <td>0.890365</td>\n",
              "      <td>1.131769</td>\n",
              "      <td>1.121419</td>\n",
              "      <td>0.888764</td>\n",
              "      <td>0.641122</td>\n",
              "      <td>0.924292</td>\n",
              "      <td>1.209138</td>\n",
              "      <td>0.787136</td>\n",
              "      <td>0.566303</td>\n",
              "      <td>1.509312</td>\n",
              "    </tr>\n",
              "    <tr>\n",
              "      <th>min</th>\n",
              "      <td>-1.060000</td>\n",
              "      <td>-2.190000</td>\n",
              "      <td>-1.710000</td>\n",
              "      <td>-2.610000</td>\n",
              "      <td>-0.825000</td>\n",
              "      <td>-0.700000</td>\n",
              "      <td>-0.920000</td>\n",
              "      <td>-0.705000</td>\n",
              "      <td>-0.900000</td>\n",
              "      <td>-1.654981</td>\n",
              "      <td>...</td>\n",
              "      <td>-1.850020</td>\n",
              "      <td>-0.775000</td>\n",
              "      <td>-1.150000</td>\n",
              "      <td>-2.095000</td>\n",
              "      <td>-1.390020</td>\n",
              "      <td>-1.330000</td>\n",
              "      <td>-2.030010</td>\n",
              "      <td>-1.700000</td>\n",
              "      <td>-0.910000</td>\n",
              "      <td>-2.830000</td>\n",
              "    </tr>\n",
              "    <tr>\n",
              "      <th>25%</th>\n",
              "      <td>-0.372500</td>\n",
              "      <td>-0.404985</td>\n",
              "      <td>-0.192485</td>\n",
              "      <td>-1.322500</td>\n",
              "      <td>-0.225000</td>\n",
              "      <td>-0.156250</td>\n",
              "      <td>-0.246250</td>\n",
              "      <td>-0.204985</td>\n",
              "      <td>-0.360000</td>\n",
              "      <td>-0.477466</td>\n",
              "      <td>...</td>\n",
              "      <td>-0.660019</td>\n",
              "      <td>-0.177500</td>\n",
              "      <td>-0.327500</td>\n",
              "      <td>-0.328750</td>\n",
              "      <td>-0.232519</td>\n",
              "      <td>-0.330000</td>\n",
              "      <td>-0.602510</td>\n",
              "      <td>-0.682500</td>\n",
              "      <td>-0.275000</td>\n",
              "      <td>-1.100000</td>\n",
              "    </tr>\n",
              "    <tr>\n",
              "      <th>50%</th>\n",
              "      <td>0.000000</td>\n",
              "      <td>0.000000</td>\n",
              "      <td>0.000000</td>\n",
              "      <td>0.000000</td>\n",
              "      <td>0.000000</td>\n",
              "      <td>0.000000</td>\n",
              "      <td>0.000000</td>\n",
              "      <td>0.000000</td>\n",
              "      <td>0.000000</td>\n",
              "      <td>0.000000</td>\n",
              "      <td>...</td>\n",
              "      <td>0.000000</td>\n",
              "      <td>0.000000</td>\n",
              "      <td>0.000000</td>\n",
              "      <td>0.000000</td>\n",
              "      <td>0.000000</td>\n",
              "      <td>0.000000</td>\n",
              "      <td>0.000000</td>\n",
              "      <td>0.000000</td>\n",
              "      <td>0.000000</td>\n",
              "      <td>0.000000</td>\n",
              "    </tr>\n",
              "    <tr>\n",
              "      <th>75%</th>\n",
              "      <td>0.310005</td>\n",
              "      <td>0.352500</td>\n",
              "      <td>0.162490</td>\n",
              "      <td>0.692500</td>\n",
              "      <td>0.210000</td>\n",
              "      <td>0.184995</td>\n",
              "      <td>0.247505</td>\n",
              "      <td>0.160015</td>\n",
              "      <td>0.295000</td>\n",
              "      <td>0.467519</td>\n",
              "      <td>...</td>\n",
              "      <td>0.304980</td>\n",
              "      <td>0.560000</td>\n",
              "      <td>0.422500</td>\n",
              "      <td>0.427500</td>\n",
              "      <td>0.302480</td>\n",
              "      <td>0.325000</td>\n",
              "      <td>0.134995</td>\n",
              "      <td>0.302505</td>\n",
              "      <td>0.451255</td>\n",
              "      <td>1.250000</td>\n",
              "    </tr>\n",
              "    <tr>\n",
              "      <th>max</th>\n",
              "      <td>0.940000</td>\n",
              "      <td>2.240000</td>\n",
              "      <td>1.150000</td>\n",
              "      <td>1.500000</td>\n",
              "      <td>1.715000</td>\n",
              "      <td>1.160000</td>\n",
              "      <td>0.940000</td>\n",
              "      <td>0.724961</td>\n",
              "      <td>0.990000</td>\n",
              "      <td>1.490019</td>\n",
              "      <td>...</td>\n",
              "      <td>2.929980</td>\n",
              "      <td>5.200000</td>\n",
              "      <td>5.510000</td>\n",
              "      <td>3.995000</td>\n",
              "      <td>2.899980</td>\n",
              "      <td>4.600000</td>\n",
              "      <td>5.339990</td>\n",
              "      <td>2.560000</td>\n",
              "      <td>2.030000</td>\n",
              "      <td>3.940000</td>\n",
              "    </tr>\n",
              "  </tbody>\n",
              "</table>\n",
              "<p>8 rows × 6830 columns</p>\n",
              "</div>\n",
              "      <button class=\"colab-df-convert\" onclick=\"convertToInteractive('df-6aa7b418-88c5-4971-a2a0-65cb2dfb8b52')\"\n",
              "              title=\"Convert this dataframe to an interactive table.\"\n",
              "              style=\"display:none;\">\n",
              "        \n",
              "  <svg xmlns=\"http://www.w3.org/2000/svg\" height=\"24px\"viewBox=\"0 0 24 24\"\n",
              "       width=\"24px\">\n",
              "    <path d=\"M0 0h24v24H0V0z\" fill=\"none\"/>\n",
              "    <path d=\"M18.56 5.44l.94 2.06.94-2.06 2.06-.94-2.06-.94-.94-2.06-.94 2.06-2.06.94zm-11 1L8.5 8.5l.94-2.06 2.06-.94-2.06-.94L8.5 2.5l-.94 2.06-2.06.94zm10 10l.94 2.06.94-2.06 2.06-.94-2.06-.94-.94-2.06-.94 2.06-2.06.94z\"/><path d=\"M17.41 7.96l-1.37-1.37c-.4-.4-.92-.59-1.43-.59-.52 0-1.04.2-1.43.59L10.3 9.45l-7.72 7.72c-.78.78-.78 2.05 0 2.83L4 21.41c.39.39.9.59 1.41.59.51 0 1.02-.2 1.41-.59l7.78-7.78 2.81-2.81c.8-.78.8-2.07 0-2.86zM5.41 20L4 18.59l7.72-7.72 1.47 1.35L5.41 20z\"/>\n",
              "  </svg>\n",
              "      </button>\n",
              "      \n",
              "  <style>\n",
              "    .colab-df-container {\n",
              "      display:flex;\n",
              "      flex-wrap:wrap;\n",
              "      gap: 12px;\n",
              "    }\n",
              "\n",
              "    .colab-df-convert {\n",
              "      background-color: #E8F0FE;\n",
              "      border: none;\n",
              "      border-radius: 50%;\n",
              "      cursor: pointer;\n",
              "      display: none;\n",
              "      fill: #1967D2;\n",
              "      height: 32px;\n",
              "      padding: 0 0 0 0;\n",
              "      width: 32px;\n",
              "    }\n",
              "\n",
              "    .colab-df-convert:hover {\n",
              "      background-color: #E2EBFA;\n",
              "      box-shadow: 0px 1px 2px rgba(60, 64, 67, 0.3), 0px 1px 3px 1px rgba(60, 64, 67, 0.15);\n",
              "      fill: #174EA6;\n",
              "    }\n",
              "\n",
              "    [theme=dark] .colab-df-convert {\n",
              "      background-color: #3B4455;\n",
              "      fill: #D2E3FC;\n",
              "    }\n",
              "\n",
              "    [theme=dark] .colab-df-convert:hover {\n",
              "      background-color: #434B5C;\n",
              "      box-shadow: 0px 1px 3px 1px rgba(0, 0, 0, 0.15);\n",
              "      filter: drop-shadow(0px 1px 2px rgba(0, 0, 0, 0.3));\n",
              "      fill: #FFFFFF;\n",
              "    }\n",
              "  </style>\n",
              "\n",
              "      <script>\n",
              "        const buttonEl =\n",
              "          document.querySelector('#df-6aa7b418-88c5-4971-a2a0-65cb2dfb8b52 button.colab-df-convert');\n",
              "        buttonEl.style.display =\n",
              "          google.colab.kernel.accessAllowed ? 'block' : 'none';\n",
              "\n",
              "        async function convertToInteractive(key) {\n",
              "          const element = document.querySelector('#df-6aa7b418-88c5-4971-a2a0-65cb2dfb8b52');\n",
              "          const dataTable =\n",
              "            await google.colab.kernel.invokeFunction('convertToInteractive',\n",
              "                                                     [key], {});\n",
              "          if (!dataTable) return;\n",
              "\n",
              "          const docLinkHtml = 'Like what you see? Visit the ' +\n",
              "            '<a target=\"_blank\" href=https://colab.research.google.com/notebooks/data_table.ipynb>data table notebook</a>'\n",
              "            + ' to learn more about interactive tables.';\n",
              "          element.innerHTML = '';\n",
              "          dataTable['output_type'] = 'display_data';\n",
              "          await google.colab.output.renderOutput(dataTable, element);\n",
              "          const docLink = document.createElement('div');\n",
              "          docLink.innerHTML = docLinkHtml;\n",
              "          element.appendChild(docLink);\n",
              "        }\n",
              "      </script>\n",
              "    </div>\n",
              "  </div>\n",
              "  "
            ]
          },
          "metadata": {},
          "execution_count": 125
        }
      ]
    },
    {
      "cell_type": "code",
      "source": [
        "x=data.drop('Unnamed: 0',axis=1)"
      ],
      "metadata": {
        "id": "hY9EndLt0BSL"
      },
      "execution_count": 126,
      "outputs": []
    },
    {
      "cell_type": "code",
      "source": [
        "x.info()"
      ],
      "metadata": {
        "colab": {
          "base_uri": "https://localhost:8080/"
        },
        "id": "3VmIY5zHMdtC",
        "outputId": "a7937391-fbc7-4130-9788-d7ffa2c6ccd7"
      },
      "execution_count": 127,
      "outputs": [
        {
          "output_type": "stream",
          "name": "stdout",
          "text": [
            "<class 'pandas.core.frame.DataFrame'>\n",
            "RangeIndex: 64 entries, 0 to 63\n",
            "Columns: 6830 entries, 1 to 6830\n",
            "dtypes: float64(6830)\n",
            "memory usage: 3.3 MB\n"
          ]
        }
      ]
    },
    {
      "cell_type": "code",
      "source": [
        "x.head()"
      ],
      "metadata": {
        "colab": {
          "base_uri": "https://localhost:8080/",
          "height": 351
        },
        "id": "6KPpJBM50ie0",
        "outputId": "94416986-c2c1-4983-b6e8-a67c4641d242"
      },
      "execution_count": 128,
      "outputs": [
        {
          "output_type": "execute_result",
          "data": {
            "text/plain": [
              "          1         2         3         4         5             6         7  \\\n",
              "0  0.300000  1.180000  0.550000  1.140000 -0.265000 -7.000000e-02  0.350000   \n",
              "1  0.679961  1.289961  0.169961  0.379961  0.464961  5.799610e-01  0.699961   \n",
              "2  0.940000 -0.040000 -0.170000 -0.040000 -0.605000  0.000000e+00  0.090000   \n",
              "3  0.280000 -0.310000  0.680000 -0.810000  0.625000 -1.387779e-17  0.170000   \n",
              "4  0.485000 -0.465000  0.395000  0.905000  0.200000 -5.000000e-03  0.085000   \n",
              "\n",
              "          8         9        10  ...      6821      6822      6823      6824  \\\n",
              "0 -0.315000 -0.450000 -0.654980  ... -0.990020  0.000000  0.030000 -0.175000   \n",
              "1  0.724961 -0.040039 -0.285019  ... -0.270058 -0.300039 -0.250039 -0.535039   \n",
              "2  0.645000  0.430000  0.475019  ...  0.319981  0.120000 -0.740000 -0.595000   \n",
              "3  0.245000  0.020000  0.095019  ... -1.240020 -0.110000 -0.160000  0.095000   \n",
              "4  0.110000  0.235000  1.490019  ...  0.554980 -0.775000 -0.515000 -0.320000   \n",
              "\n",
              "       6825      6826      6827      6828      6829      6830  \n",
              "0  0.629981 -0.030000  0.000000  0.280000 -0.340000 -1.930000  \n",
              "1  0.109941 -0.860039 -1.250049 -0.770039 -0.390039 -2.000039  \n",
              "2 -0.270020 -0.150000  0.000000 -0.120000 -0.410000  0.000000  \n",
              "3 -0.350019 -0.300000 -1.150010  1.090000 -0.260000 -1.100000  \n",
              "4  0.634980  0.605000  0.000000  0.745000  0.425000  0.145000  \n",
              "\n",
              "[5 rows x 6830 columns]"
            ],
            "text/html": [
              "\n",
              "  <div id=\"df-33aac044-840d-429a-b2d9-e1ead13b8d1f\">\n",
              "    <div class=\"colab-df-container\">\n",
              "      <div>\n",
              "<style scoped>\n",
              "    .dataframe tbody tr th:only-of-type {\n",
              "        vertical-align: middle;\n",
              "    }\n",
              "\n",
              "    .dataframe tbody tr th {\n",
              "        vertical-align: top;\n",
              "    }\n",
              "\n",
              "    .dataframe thead th {\n",
              "        text-align: right;\n",
              "    }\n",
              "</style>\n",
              "<table border=\"1\" class=\"dataframe\">\n",
              "  <thead>\n",
              "    <tr style=\"text-align: right;\">\n",
              "      <th></th>\n",
              "      <th>1</th>\n",
              "      <th>2</th>\n",
              "      <th>3</th>\n",
              "      <th>4</th>\n",
              "      <th>5</th>\n",
              "      <th>6</th>\n",
              "      <th>7</th>\n",
              "      <th>8</th>\n",
              "      <th>9</th>\n",
              "      <th>10</th>\n",
              "      <th>...</th>\n",
              "      <th>6821</th>\n",
              "      <th>6822</th>\n",
              "      <th>6823</th>\n",
              "      <th>6824</th>\n",
              "      <th>6825</th>\n",
              "      <th>6826</th>\n",
              "      <th>6827</th>\n",
              "      <th>6828</th>\n",
              "      <th>6829</th>\n",
              "      <th>6830</th>\n",
              "    </tr>\n",
              "  </thead>\n",
              "  <tbody>\n",
              "    <tr>\n",
              "      <th>0</th>\n",
              "      <td>0.300000</td>\n",
              "      <td>1.180000</td>\n",
              "      <td>0.550000</td>\n",
              "      <td>1.140000</td>\n",
              "      <td>-0.265000</td>\n",
              "      <td>-7.000000e-02</td>\n",
              "      <td>0.350000</td>\n",
              "      <td>-0.315000</td>\n",
              "      <td>-0.450000</td>\n",
              "      <td>-0.654980</td>\n",
              "      <td>...</td>\n",
              "      <td>-0.990020</td>\n",
              "      <td>0.000000</td>\n",
              "      <td>0.030000</td>\n",
              "      <td>-0.175000</td>\n",
              "      <td>0.629981</td>\n",
              "      <td>-0.030000</td>\n",
              "      <td>0.000000</td>\n",
              "      <td>0.280000</td>\n",
              "      <td>-0.340000</td>\n",
              "      <td>-1.930000</td>\n",
              "    </tr>\n",
              "    <tr>\n",
              "      <th>1</th>\n",
              "      <td>0.679961</td>\n",
              "      <td>1.289961</td>\n",
              "      <td>0.169961</td>\n",
              "      <td>0.379961</td>\n",
              "      <td>0.464961</td>\n",
              "      <td>5.799610e-01</td>\n",
              "      <td>0.699961</td>\n",
              "      <td>0.724961</td>\n",
              "      <td>-0.040039</td>\n",
              "      <td>-0.285019</td>\n",
              "      <td>...</td>\n",
              "      <td>-0.270058</td>\n",
              "      <td>-0.300039</td>\n",
              "      <td>-0.250039</td>\n",
              "      <td>-0.535039</td>\n",
              "      <td>0.109941</td>\n",
              "      <td>-0.860039</td>\n",
              "      <td>-1.250049</td>\n",
              "      <td>-0.770039</td>\n",
              "      <td>-0.390039</td>\n",
              "      <td>-2.000039</td>\n",
              "    </tr>\n",
              "    <tr>\n",
              "      <th>2</th>\n",
              "      <td>0.940000</td>\n",
              "      <td>-0.040000</td>\n",
              "      <td>-0.170000</td>\n",
              "      <td>-0.040000</td>\n",
              "      <td>-0.605000</td>\n",
              "      <td>0.000000e+00</td>\n",
              "      <td>0.090000</td>\n",
              "      <td>0.645000</td>\n",
              "      <td>0.430000</td>\n",
              "      <td>0.475019</td>\n",
              "      <td>...</td>\n",
              "      <td>0.319981</td>\n",
              "      <td>0.120000</td>\n",
              "      <td>-0.740000</td>\n",
              "      <td>-0.595000</td>\n",
              "      <td>-0.270020</td>\n",
              "      <td>-0.150000</td>\n",
              "      <td>0.000000</td>\n",
              "      <td>-0.120000</td>\n",
              "      <td>-0.410000</td>\n",
              "      <td>0.000000</td>\n",
              "    </tr>\n",
              "    <tr>\n",
              "      <th>3</th>\n",
              "      <td>0.280000</td>\n",
              "      <td>-0.310000</td>\n",
              "      <td>0.680000</td>\n",
              "      <td>-0.810000</td>\n",
              "      <td>0.625000</td>\n",
              "      <td>-1.387779e-17</td>\n",
              "      <td>0.170000</td>\n",
              "      <td>0.245000</td>\n",
              "      <td>0.020000</td>\n",
              "      <td>0.095019</td>\n",
              "      <td>...</td>\n",
              "      <td>-1.240020</td>\n",
              "      <td>-0.110000</td>\n",
              "      <td>-0.160000</td>\n",
              "      <td>0.095000</td>\n",
              "      <td>-0.350019</td>\n",
              "      <td>-0.300000</td>\n",
              "      <td>-1.150010</td>\n",
              "      <td>1.090000</td>\n",
              "      <td>-0.260000</td>\n",
              "      <td>-1.100000</td>\n",
              "    </tr>\n",
              "    <tr>\n",
              "      <th>4</th>\n",
              "      <td>0.485000</td>\n",
              "      <td>-0.465000</td>\n",
              "      <td>0.395000</td>\n",
              "      <td>0.905000</td>\n",
              "      <td>0.200000</td>\n",
              "      <td>-5.000000e-03</td>\n",
              "      <td>0.085000</td>\n",
              "      <td>0.110000</td>\n",
              "      <td>0.235000</td>\n",
              "      <td>1.490019</td>\n",
              "      <td>...</td>\n",
              "      <td>0.554980</td>\n",
              "      <td>-0.775000</td>\n",
              "      <td>-0.515000</td>\n",
              "      <td>-0.320000</td>\n",
              "      <td>0.634980</td>\n",
              "      <td>0.605000</td>\n",
              "      <td>0.000000</td>\n",
              "      <td>0.745000</td>\n",
              "      <td>0.425000</td>\n",
              "      <td>0.145000</td>\n",
              "    </tr>\n",
              "  </tbody>\n",
              "</table>\n",
              "<p>5 rows × 6830 columns</p>\n",
              "</div>\n",
              "      <button class=\"colab-df-convert\" onclick=\"convertToInteractive('df-33aac044-840d-429a-b2d9-e1ead13b8d1f')\"\n",
              "              title=\"Convert this dataframe to an interactive table.\"\n",
              "              style=\"display:none;\">\n",
              "        \n",
              "  <svg xmlns=\"http://www.w3.org/2000/svg\" height=\"24px\"viewBox=\"0 0 24 24\"\n",
              "       width=\"24px\">\n",
              "    <path d=\"M0 0h24v24H0V0z\" fill=\"none\"/>\n",
              "    <path d=\"M18.56 5.44l.94 2.06.94-2.06 2.06-.94-2.06-.94-.94-2.06-.94 2.06-2.06.94zm-11 1L8.5 8.5l.94-2.06 2.06-.94-2.06-.94L8.5 2.5l-.94 2.06-2.06.94zm10 10l.94 2.06.94-2.06 2.06-.94-2.06-.94-.94-2.06-.94 2.06-2.06.94z\"/><path d=\"M17.41 7.96l-1.37-1.37c-.4-.4-.92-.59-1.43-.59-.52 0-1.04.2-1.43.59L10.3 9.45l-7.72 7.72c-.78.78-.78 2.05 0 2.83L4 21.41c.39.39.9.59 1.41.59.51 0 1.02-.2 1.41-.59l7.78-7.78 2.81-2.81c.8-.78.8-2.07 0-2.86zM5.41 20L4 18.59l7.72-7.72 1.47 1.35L5.41 20z\"/>\n",
              "  </svg>\n",
              "      </button>\n",
              "      \n",
              "  <style>\n",
              "    .colab-df-container {\n",
              "      display:flex;\n",
              "      flex-wrap:wrap;\n",
              "      gap: 12px;\n",
              "    }\n",
              "\n",
              "    .colab-df-convert {\n",
              "      background-color: #E8F0FE;\n",
              "      border: none;\n",
              "      border-radius: 50%;\n",
              "      cursor: pointer;\n",
              "      display: none;\n",
              "      fill: #1967D2;\n",
              "      height: 32px;\n",
              "      padding: 0 0 0 0;\n",
              "      width: 32px;\n",
              "    }\n",
              "\n",
              "    .colab-df-convert:hover {\n",
              "      background-color: #E2EBFA;\n",
              "      box-shadow: 0px 1px 2px rgba(60, 64, 67, 0.3), 0px 1px 3px 1px rgba(60, 64, 67, 0.15);\n",
              "      fill: #174EA6;\n",
              "    }\n",
              "\n",
              "    [theme=dark] .colab-df-convert {\n",
              "      background-color: #3B4455;\n",
              "      fill: #D2E3FC;\n",
              "    }\n",
              "\n",
              "    [theme=dark] .colab-df-convert:hover {\n",
              "      background-color: #434B5C;\n",
              "      box-shadow: 0px 1px 3px 1px rgba(0, 0, 0, 0.15);\n",
              "      filter: drop-shadow(0px 1px 2px rgba(0, 0, 0, 0.3));\n",
              "      fill: #FFFFFF;\n",
              "    }\n",
              "  </style>\n",
              "\n",
              "      <script>\n",
              "        const buttonEl =\n",
              "          document.querySelector('#df-33aac044-840d-429a-b2d9-e1ead13b8d1f button.colab-df-convert');\n",
              "        buttonEl.style.display =\n",
              "          google.colab.kernel.accessAllowed ? 'block' : 'none';\n",
              "\n",
              "        async function convertToInteractive(key) {\n",
              "          const element = document.querySelector('#df-33aac044-840d-429a-b2d9-e1ead13b8d1f');\n",
              "          const dataTable =\n",
              "            await google.colab.kernel.invokeFunction('convertToInteractive',\n",
              "                                                     [key], {});\n",
              "          if (!dataTable) return;\n",
              "\n",
              "          const docLinkHtml = 'Like what you see? Visit the ' +\n",
              "            '<a target=\"_blank\" href=https://colab.research.google.com/notebooks/data_table.ipynb>data table notebook</a>'\n",
              "            + ' to learn more about interactive tables.';\n",
              "          element.innerHTML = '';\n",
              "          dataTable['output_type'] = 'display_data';\n",
              "          await google.colab.output.renderOutput(dataTable, element);\n",
              "          const docLink = document.createElement('div');\n",
              "          docLink.innerHTML = docLinkHtml;\n",
              "          element.appendChild(docLink);\n",
              "        }\n",
              "      </script>\n",
              "    </div>\n",
              "  </div>\n",
              "  "
            ]
          },
          "metadata": {},
          "execution_count": 128
        }
      ]
    },
    {
      "cell_type": "code",
      "source": [
        "data.corr()"
      ],
      "metadata": {
        "colab": {
          "base_uri": "https://localhost:8080/",
          "height": 522
        },
        "id": "xImP4D3r1iBp",
        "outputId": "701550b2-9349-4aeb-9b2f-73eee2db139a"
      },
      "execution_count": 129,
      "outputs": [
        {
          "output_type": "stream",
          "name": "stderr",
          "text": [
            "<ipython-input-129-c44ded798807>:1: FutureWarning: The default value of numeric_only in DataFrame.corr is deprecated. In a future version, it will default to False. Select only valid columns or specify the value of numeric_only to silence this warning.\n",
            "  data.corr()\n"
          ]
        },
        {
          "output_type": "execute_result",
          "data": {
            "text/plain": [
              "             1         2         3         4         5         6         7  \\\n",
              "1     1.000000  0.369523  0.224803  0.072525 -0.111652  0.082434  0.102550   \n",
              "2     0.369523  1.000000  0.365087  0.234746  0.156462  0.190006  0.347300   \n",
              "3     0.224803  0.365087  1.000000  0.234463  0.105175  0.025614  0.101811   \n",
              "4     0.072525  0.234746  0.234463  1.000000  0.139227  0.072153  0.050299   \n",
              "5    -0.111652  0.156462  0.105175  0.139227  1.000000  0.252648  0.249501   \n",
              "...        ...       ...       ...       ...       ...       ...       ...   \n",
              "6826 -0.039783 -0.048616 -0.125612 -0.196066  0.091374 -0.179371  0.179991   \n",
              "6827 -0.036840  0.007148 -0.035144  0.007615  0.069646 -0.290953  0.105614   \n",
              "6828 -0.007935 -0.083373  0.116060 -0.050696 -0.025194 -0.223602  0.046420   \n",
              "6829 -0.082233 -0.042292  0.095782 -0.042771  0.028185 -0.223896 -0.096546   \n",
              "6830 -0.068994 -0.046844  0.080308  0.010048 -0.048320 -0.217493 -0.193918   \n",
              "\n",
              "             8         9        10  ...      6821      6822      6823  \\\n",
              "1     0.383263  0.146702  0.200520  ... -0.001301 -0.110626 -0.104605   \n",
              "2     0.046215  0.259777  0.043624  ... -0.019406 -0.100822 -0.036153   \n",
              "3     0.008317 -0.044394  0.223556  ...  0.054223  0.026336  0.078713   \n",
              "4    -0.117858  0.032301 -0.157428  ... -0.183226 -0.237242 -0.193870   \n",
              "5    -0.071547 -0.044091 -0.150494  ... -0.157010 -0.202877 -0.146788   \n",
              "...        ...       ...       ...  ...       ...       ...       ...   \n",
              "6826  0.126909  0.108572  0.126070  ...  0.315583  0.375700  0.399367   \n",
              "6827  0.085815  0.016968  0.048932  ...  0.403075  0.438254  0.476920   \n",
              "6828  0.175311 -0.061362  0.123515  ...  0.204978  0.342030  0.372787   \n",
              "6829  0.033388  0.015082  0.195558  ...  0.072621  0.162107  0.298043   \n",
              "6830  0.014713  0.026882  0.226114  ...  0.050775  0.238606  0.287673   \n",
              "\n",
              "          6824      6825      6826      6827      6828      6829      6830  \n",
              "1    -0.175310 -0.201395 -0.039783 -0.036840 -0.007935 -0.082233 -0.068994  \n",
              "2     0.002595  0.016097 -0.048616  0.007148 -0.083373 -0.042292 -0.046844  \n",
              "3     0.051154  0.075279 -0.125612 -0.035144  0.116060  0.095782  0.080308  \n",
              "4    -0.230741 -0.081435 -0.196066  0.007615 -0.050696 -0.042771  0.010048  \n",
              "5    -0.080164 -0.119049  0.091374  0.069646 -0.025194  0.028185 -0.048320  \n",
              "...        ...       ...       ...       ...       ...       ...       ...  \n",
              "6826  0.367797  0.420911  1.000000  0.802684  0.450702  0.372070  0.295309  \n",
              "6827  0.344669  0.408825  0.802684  1.000000  0.422170  0.386220  0.329532  \n",
              "6828  0.327562  0.319074  0.450702  0.422170  1.000000  0.433611  0.304976  \n",
              "6829  0.189013  0.387155  0.372070  0.386220  0.433611  1.000000  0.737903  \n",
              "6830  0.254872  0.361875  0.295309  0.329532  0.304976  0.737903  1.000000  \n",
              "\n",
              "[6830 rows x 6830 columns]"
            ],
            "text/html": [
              "\n",
              "  <div id=\"df-d4daf751-e46c-45b6-8e45-fa96602f2fbf\">\n",
              "    <div class=\"colab-df-container\">\n",
              "      <div>\n",
              "<style scoped>\n",
              "    .dataframe tbody tr th:only-of-type {\n",
              "        vertical-align: middle;\n",
              "    }\n",
              "\n",
              "    .dataframe tbody tr th {\n",
              "        vertical-align: top;\n",
              "    }\n",
              "\n",
              "    .dataframe thead th {\n",
              "        text-align: right;\n",
              "    }\n",
              "</style>\n",
              "<table border=\"1\" class=\"dataframe\">\n",
              "  <thead>\n",
              "    <tr style=\"text-align: right;\">\n",
              "      <th></th>\n",
              "      <th>1</th>\n",
              "      <th>2</th>\n",
              "      <th>3</th>\n",
              "      <th>4</th>\n",
              "      <th>5</th>\n",
              "      <th>6</th>\n",
              "      <th>7</th>\n",
              "      <th>8</th>\n",
              "      <th>9</th>\n",
              "      <th>10</th>\n",
              "      <th>...</th>\n",
              "      <th>6821</th>\n",
              "      <th>6822</th>\n",
              "      <th>6823</th>\n",
              "      <th>6824</th>\n",
              "      <th>6825</th>\n",
              "      <th>6826</th>\n",
              "      <th>6827</th>\n",
              "      <th>6828</th>\n",
              "      <th>6829</th>\n",
              "      <th>6830</th>\n",
              "    </tr>\n",
              "  </thead>\n",
              "  <tbody>\n",
              "    <tr>\n",
              "      <th>1</th>\n",
              "      <td>1.000000</td>\n",
              "      <td>0.369523</td>\n",
              "      <td>0.224803</td>\n",
              "      <td>0.072525</td>\n",
              "      <td>-0.111652</td>\n",
              "      <td>0.082434</td>\n",
              "      <td>0.102550</td>\n",
              "      <td>0.383263</td>\n",
              "      <td>0.146702</td>\n",
              "      <td>0.200520</td>\n",
              "      <td>...</td>\n",
              "      <td>-0.001301</td>\n",
              "      <td>-0.110626</td>\n",
              "      <td>-0.104605</td>\n",
              "      <td>-0.175310</td>\n",
              "      <td>-0.201395</td>\n",
              "      <td>-0.039783</td>\n",
              "      <td>-0.036840</td>\n",
              "      <td>-0.007935</td>\n",
              "      <td>-0.082233</td>\n",
              "      <td>-0.068994</td>\n",
              "    </tr>\n",
              "    <tr>\n",
              "      <th>2</th>\n",
              "      <td>0.369523</td>\n",
              "      <td>1.000000</td>\n",
              "      <td>0.365087</td>\n",
              "      <td>0.234746</td>\n",
              "      <td>0.156462</td>\n",
              "      <td>0.190006</td>\n",
              "      <td>0.347300</td>\n",
              "      <td>0.046215</td>\n",
              "      <td>0.259777</td>\n",
              "      <td>0.043624</td>\n",
              "      <td>...</td>\n",
              "      <td>-0.019406</td>\n",
              "      <td>-0.100822</td>\n",
              "      <td>-0.036153</td>\n",
              "      <td>0.002595</td>\n",
              "      <td>0.016097</td>\n",
              "      <td>-0.048616</td>\n",
              "      <td>0.007148</td>\n",
              "      <td>-0.083373</td>\n",
              "      <td>-0.042292</td>\n",
              "      <td>-0.046844</td>\n",
              "    </tr>\n",
              "    <tr>\n",
              "      <th>3</th>\n",
              "      <td>0.224803</td>\n",
              "      <td>0.365087</td>\n",
              "      <td>1.000000</td>\n",
              "      <td>0.234463</td>\n",
              "      <td>0.105175</td>\n",
              "      <td>0.025614</td>\n",
              "      <td>0.101811</td>\n",
              "      <td>0.008317</td>\n",
              "      <td>-0.044394</td>\n",
              "      <td>0.223556</td>\n",
              "      <td>...</td>\n",
              "      <td>0.054223</td>\n",
              "      <td>0.026336</td>\n",
              "      <td>0.078713</td>\n",
              "      <td>0.051154</td>\n",
              "      <td>0.075279</td>\n",
              "      <td>-0.125612</td>\n",
              "      <td>-0.035144</td>\n",
              "      <td>0.116060</td>\n",
              "      <td>0.095782</td>\n",
              "      <td>0.080308</td>\n",
              "    </tr>\n",
              "    <tr>\n",
              "      <th>4</th>\n",
              "      <td>0.072525</td>\n",
              "      <td>0.234746</td>\n",
              "      <td>0.234463</td>\n",
              "      <td>1.000000</td>\n",
              "      <td>0.139227</td>\n",
              "      <td>0.072153</td>\n",
              "      <td>0.050299</td>\n",
              "      <td>-0.117858</td>\n",
              "      <td>0.032301</td>\n",
              "      <td>-0.157428</td>\n",
              "      <td>...</td>\n",
              "      <td>-0.183226</td>\n",
              "      <td>-0.237242</td>\n",
              "      <td>-0.193870</td>\n",
              "      <td>-0.230741</td>\n",
              "      <td>-0.081435</td>\n",
              "      <td>-0.196066</td>\n",
              "      <td>0.007615</td>\n",
              "      <td>-0.050696</td>\n",
              "      <td>-0.042771</td>\n",
              "      <td>0.010048</td>\n",
              "    </tr>\n",
              "    <tr>\n",
              "      <th>5</th>\n",
              "      <td>-0.111652</td>\n",
              "      <td>0.156462</td>\n",
              "      <td>0.105175</td>\n",
              "      <td>0.139227</td>\n",
              "      <td>1.000000</td>\n",
              "      <td>0.252648</td>\n",
              "      <td>0.249501</td>\n",
              "      <td>-0.071547</td>\n",
              "      <td>-0.044091</td>\n",
              "      <td>-0.150494</td>\n",
              "      <td>...</td>\n",
              "      <td>-0.157010</td>\n",
              "      <td>-0.202877</td>\n",
              "      <td>-0.146788</td>\n",
              "      <td>-0.080164</td>\n",
              "      <td>-0.119049</td>\n",
              "      <td>0.091374</td>\n",
              "      <td>0.069646</td>\n",
              "      <td>-0.025194</td>\n",
              "      <td>0.028185</td>\n",
              "      <td>-0.048320</td>\n",
              "    </tr>\n",
              "    <tr>\n",
              "      <th>...</th>\n",
              "      <td>...</td>\n",
              "      <td>...</td>\n",
              "      <td>...</td>\n",
              "      <td>...</td>\n",
              "      <td>...</td>\n",
              "      <td>...</td>\n",
              "      <td>...</td>\n",
              "      <td>...</td>\n",
              "      <td>...</td>\n",
              "      <td>...</td>\n",
              "      <td>...</td>\n",
              "      <td>...</td>\n",
              "      <td>...</td>\n",
              "      <td>...</td>\n",
              "      <td>...</td>\n",
              "      <td>...</td>\n",
              "      <td>...</td>\n",
              "      <td>...</td>\n",
              "      <td>...</td>\n",
              "      <td>...</td>\n",
              "      <td>...</td>\n",
              "    </tr>\n",
              "    <tr>\n",
              "      <th>6826</th>\n",
              "      <td>-0.039783</td>\n",
              "      <td>-0.048616</td>\n",
              "      <td>-0.125612</td>\n",
              "      <td>-0.196066</td>\n",
              "      <td>0.091374</td>\n",
              "      <td>-0.179371</td>\n",
              "      <td>0.179991</td>\n",
              "      <td>0.126909</td>\n",
              "      <td>0.108572</td>\n",
              "      <td>0.126070</td>\n",
              "      <td>...</td>\n",
              "      <td>0.315583</td>\n",
              "      <td>0.375700</td>\n",
              "      <td>0.399367</td>\n",
              "      <td>0.367797</td>\n",
              "      <td>0.420911</td>\n",
              "      <td>1.000000</td>\n",
              "      <td>0.802684</td>\n",
              "      <td>0.450702</td>\n",
              "      <td>0.372070</td>\n",
              "      <td>0.295309</td>\n",
              "    </tr>\n",
              "    <tr>\n",
              "      <th>6827</th>\n",
              "      <td>-0.036840</td>\n",
              "      <td>0.007148</td>\n",
              "      <td>-0.035144</td>\n",
              "      <td>0.007615</td>\n",
              "      <td>0.069646</td>\n",
              "      <td>-0.290953</td>\n",
              "      <td>0.105614</td>\n",
              "      <td>0.085815</td>\n",
              "      <td>0.016968</td>\n",
              "      <td>0.048932</td>\n",
              "      <td>...</td>\n",
              "      <td>0.403075</td>\n",
              "      <td>0.438254</td>\n",
              "      <td>0.476920</td>\n",
              "      <td>0.344669</td>\n",
              "      <td>0.408825</td>\n",
              "      <td>0.802684</td>\n",
              "      <td>1.000000</td>\n",
              "      <td>0.422170</td>\n",
              "      <td>0.386220</td>\n",
              "      <td>0.329532</td>\n",
              "    </tr>\n",
              "    <tr>\n",
              "      <th>6828</th>\n",
              "      <td>-0.007935</td>\n",
              "      <td>-0.083373</td>\n",
              "      <td>0.116060</td>\n",
              "      <td>-0.050696</td>\n",
              "      <td>-0.025194</td>\n",
              "      <td>-0.223602</td>\n",
              "      <td>0.046420</td>\n",
              "      <td>0.175311</td>\n",
              "      <td>-0.061362</td>\n",
              "      <td>0.123515</td>\n",
              "      <td>...</td>\n",
              "      <td>0.204978</td>\n",
              "      <td>0.342030</td>\n",
              "      <td>0.372787</td>\n",
              "      <td>0.327562</td>\n",
              "      <td>0.319074</td>\n",
              "      <td>0.450702</td>\n",
              "      <td>0.422170</td>\n",
              "      <td>1.000000</td>\n",
              "      <td>0.433611</td>\n",
              "      <td>0.304976</td>\n",
              "    </tr>\n",
              "    <tr>\n",
              "      <th>6829</th>\n",
              "      <td>-0.082233</td>\n",
              "      <td>-0.042292</td>\n",
              "      <td>0.095782</td>\n",
              "      <td>-0.042771</td>\n",
              "      <td>0.028185</td>\n",
              "      <td>-0.223896</td>\n",
              "      <td>-0.096546</td>\n",
              "      <td>0.033388</td>\n",
              "      <td>0.015082</td>\n",
              "      <td>0.195558</td>\n",
              "      <td>...</td>\n",
              "      <td>0.072621</td>\n",
              "      <td>0.162107</td>\n",
              "      <td>0.298043</td>\n",
              "      <td>0.189013</td>\n",
              "      <td>0.387155</td>\n",
              "      <td>0.372070</td>\n",
              "      <td>0.386220</td>\n",
              "      <td>0.433611</td>\n",
              "      <td>1.000000</td>\n",
              "      <td>0.737903</td>\n",
              "    </tr>\n",
              "    <tr>\n",
              "      <th>6830</th>\n",
              "      <td>-0.068994</td>\n",
              "      <td>-0.046844</td>\n",
              "      <td>0.080308</td>\n",
              "      <td>0.010048</td>\n",
              "      <td>-0.048320</td>\n",
              "      <td>-0.217493</td>\n",
              "      <td>-0.193918</td>\n",
              "      <td>0.014713</td>\n",
              "      <td>0.026882</td>\n",
              "      <td>0.226114</td>\n",
              "      <td>...</td>\n",
              "      <td>0.050775</td>\n",
              "      <td>0.238606</td>\n",
              "      <td>0.287673</td>\n",
              "      <td>0.254872</td>\n",
              "      <td>0.361875</td>\n",
              "      <td>0.295309</td>\n",
              "      <td>0.329532</td>\n",
              "      <td>0.304976</td>\n",
              "      <td>0.737903</td>\n",
              "      <td>1.000000</td>\n",
              "    </tr>\n",
              "  </tbody>\n",
              "</table>\n",
              "<p>6830 rows × 6830 columns</p>\n",
              "</div>\n",
              "      <button class=\"colab-df-convert\" onclick=\"convertToInteractive('df-d4daf751-e46c-45b6-8e45-fa96602f2fbf')\"\n",
              "              title=\"Convert this dataframe to an interactive table.\"\n",
              "              style=\"display:none;\">\n",
              "        \n",
              "  <svg xmlns=\"http://www.w3.org/2000/svg\" height=\"24px\"viewBox=\"0 0 24 24\"\n",
              "       width=\"24px\">\n",
              "    <path d=\"M0 0h24v24H0V0z\" fill=\"none\"/>\n",
              "    <path d=\"M18.56 5.44l.94 2.06.94-2.06 2.06-.94-2.06-.94-.94-2.06-.94 2.06-2.06.94zm-11 1L8.5 8.5l.94-2.06 2.06-.94-2.06-.94L8.5 2.5l-.94 2.06-2.06.94zm10 10l.94 2.06.94-2.06 2.06-.94-2.06-.94-.94-2.06-.94 2.06-2.06.94z\"/><path d=\"M17.41 7.96l-1.37-1.37c-.4-.4-.92-.59-1.43-.59-.52 0-1.04.2-1.43.59L10.3 9.45l-7.72 7.72c-.78.78-.78 2.05 0 2.83L4 21.41c.39.39.9.59 1.41.59.51 0 1.02-.2 1.41-.59l7.78-7.78 2.81-2.81c.8-.78.8-2.07 0-2.86zM5.41 20L4 18.59l7.72-7.72 1.47 1.35L5.41 20z\"/>\n",
              "  </svg>\n",
              "      </button>\n",
              "      \n",
              "  <style>\n",
              "    .colab-df-container {\n",
              "      display:flex;\n",
              "      flex-wrap:wrap;\n",
              "      gap: 12px;\n",
              "    }\n",
              "\n",
              "    .colab-df-convert {\n",
              "      background-color: #E8F0FE;\n",
              "      border: none;\n",
              "      border-radius: 50%;\n",
              "      cursor: pointer;\n",
              "      display: none;\n",
              "      fill: #1967D2;\n",
              "      height: 32px;\n",
              "      padding: 0 0 0 0;\n",
              "      width: 32px;\n",
              "    }\n",
              "\n",
              "    .colab-df-convert:hover {\n",
              "      background-color: #E2EBFA;\n",
              "      box-shadow: 0px 1px 2px rgba(60, 64, 67, 0.3), 0px 1px 3px 1px rgba(60, 64, 67, 0.15);\n",
              "      fill: #174EA6;\n",
              "    }\n",
              "\n",
              "    [theme=dark] .colab-df-convert {\n",
              "      background-color: #3B4455;\n",
              "      fill: #D2E3FC;\n",
              "    }\n",
              "\n",
              "    [theme=dark] .colab-df-convert:hover {\n",
              "      background-color: #434B5C;\n",
              "      box-shadow: 0px 1px 3px 1px rgba(0, 0, 0, 0.15);\n",
              "      filter: drop-shadow(0px 1px 2px rgba(0, 0, 0, 0.3));\n",
              "      fill: #FFFFFF;\n",
              "    }\n",
              "  </style>\n",
              "\n",
              "      <script>\n",
              "        const buttonEl =\n",
              "          document.querySelector('#df-d4daf751-e46c-45b6-8e45-fa96602f2fbf button.colab-df-convert');\n",
              "        buttonEl.style.display =\n",
              "          google.colab.kernel.accessAllowed ? 'block' : 'none';\n",
              "\n",
              "        async function convertToInteractive(key) {\n",
              "          const element = document.querySelector('#df-d4daf751-e46c-45b6-8e45-fa96602f2fbf');\n",
              "          const dataTable =\n",
              "            await google.colab.kernel.invokeFunction('convertToInteractive',\n",
              "                                                     [key], {});\n",
              "          if (!dataTable) return;\n",
              "\n",
              "          const docLinkHtml = 'Like what you see? Visit the ' +\n",
              "            '<a target=\"_blank\" href=https://colab.research.google.com/notebooks/data_table.ipynb>data table notebook</a>'\n",
              "            + ' to learn more about interactive tables.';\n",
              "          element.innerHTML = '';\n",
              "          dataTable['output_type'] = 'display_data';\n",
              "          await google.colab.output.renderOutput(dataTable, element);\n",
              "          const docLink = document.createElement('div');\n",
              "          docLink.innerHTML = docLinkHtml;\n",
              "          element.appendChild(docLink);\n",
              "        }\n",
              "      </script>\n",
              "    </div>\n",
              "  </div>\n",
              "  "
            ]
          },
          "metadata": {},
          "execution_count": 129
        }
      ]
    },
    {
      "cell_type": "code",
      "source": [
        "from sklearn.decomposition import PCA"
      ],
      "metadata": {
        "id": "bNzvDlrOaVKo"
      },
      "execution_count": 130,
      "outputs": []
    },
    {
      "cell_type": "code",
      "source": [
        "pc = PCA(n_components=3)"
      ],
      "metadata": {
        "id": "WM3_9vQ_dXIl"
      },
      "execution_count": 131,
      "outputs": []
    },
    {
      "cell_type": "code",
      "source": [
        "pc_array = pc.fit_transform(x)"
      ],
      "metadata": {
        "id": "_vJCE0RWdgoW"
      },
      "execution_count": 132,
      "outputs": []
    },
    {
      "cell_type": "code",
      "source": [
        "pc_array.shape"
      ],
      "metadata": {
        "colab": {
          "base_uri": "https://localhost:8080/"
        },
        "id": "GfpTU3XpdlJK",
        "outputId": "370795c5-336e-4c64-ac94-67d415fd38ce"
      },
      "execution_count": 133,
      "outputs": [
        {
          "output_type": "execute_result",
          "data": {
            "text/plain": [
              "(64, 3)"
            ]
          },
          "metadata": {},
          "execution_count": 133
        }
      ]
    },
    {
      "cell_type": "code",
      "source": [
        "from sklearn.cluster import KMeans"
      ],
      "metadata": {
        "id": "Je-TsAOozuNO"
      },
      "execution_count": 134,
      "outputs": []
    },
    {
      "cell_type": "code",
      "source": [
        "km=KMeans(n_clusters=4)"
      ],
      "metadata": {
        "id": "4RUlFU4Tz1iF"
      },
      "execution_count": 135,
      "outputs": []
    },
    {
      "cell_type": "code",
      "source": [
        "km.fit(x)"
      ],
      "metadata": {
        "id": "nQMC9_C91FGG",
        "colab": {
          "base_uri": "https://localhost:8080/",
          "height": 129
        },
        "outputId": "d0f6b85f-2c3e-47ee-f22f-0d25c006e8a5"
      },
      "execution_count": 136,
      "outputs": [
        {
          "output_type": "stream",
          "name": "stderr",
          "text": [
            "/usr/local/lib/python3.10/dist-packages/sklearn/cluster/_kmeans.py:870: FutureWarning: The default value of `n_init` will change from 10 to 'auto' in 1.4. Set the value of `n_init` explicitly to suppress the warning\n",
            "  warnings.warn(\n"
          ]
        },
        {
          "output_type": "execute_result",
          "data": {
            "text/plain": [
              "KMeans(n_clusters=4)"
            ],
            "text/html": [
              "<style>#sk-container-id-3 {color: black;background-color: white;}#sk-container-id-3 pre{padding: 0;}#sk-container-id-3 div.sk-toggleable {background-color: white;}#sk-container-id-3 label.sk-toggleable__label {cursor: pointer;display: block;width: 100%;margin-bottom: 0;padding: 0.3em;box-sizing: border-box;text-align: center;}#sk-container-id-3 label.sk-toggleable__label-arrow:before {content: \"▸\";float: left;margin-right: 0.25em;color: #696969;}#sk-container-id-3 label.sk-toggleable__label-arrow:hover:before {color: black;}#sk-container-id-3 div.sk-estimator:hover label.sk-toggleable__label-arrow:before {color: black;}#sk-container-id-3 div.sk-toggleable__content {max-height: 0;max-width: 0;overflow: hidden;text-align: left;background-color: #f0f8ff;}#sk-container-id-3 div.sk-toggleable__content pre {margin: 0.2em;color: black;border-radius: 0.25em;background-color: #f0f8ff;}#sk-container-id-3 input.sk-toggleable__control:checked~div.sk-toggleable__content {max-height: 200px;max-width: 100%;overflow: auto;}#sk-container-id-3 input.sk-toggleable__control:checked~label.sk-toggleable__label-arrow:before {content: \"▾\";}#sk-container-id-3 div.sk-estimator input.sk-toggleable__control:checked~label.sk-toggleable__label {background-color: #d4ebff;}#sk-container-id-3 div.sk-label input.sk-toggleable__control:checked~label.sk-toggleable__label {background-color: #d4ebff;}#sk-container-id-3 input.sk-hidden--visually {border: 0;clip: rect(1px 1px 1px 1px);clip: rect(1px, 1px, 1px, 1px);height: 1px;margin: -1px;overflow: hidden;padding: 0;position: absolute;width: 1px;}#sk-container-id-3 div.sk-estimator {font-family: monospace;background-color: #f0f8ff;border: 1px dotted black;border-radius: 0.25em;box-sizing: border-box;margin-bottom: 0.5em;}#sk-container-id-3 div.sk-estimator:hover {background-color: #d4ebff;}#sk-container-id-3 div.sk-parallel-item::after {content: \"\";width: 100%;border-bottom: 1px solid gray;flex-grow: 1;}#sk-container-id-3 div.sk-label:hover label.sk-toggleable__label {background-color: #d4ebff;}#sk-container-id-3 div.sk-serial::before {content: \"\";position: absolute;border-left: 1px solid gray;box-sizing: border-box;top: 0;bottom: 0;left: 50%;z-index: 0;}#sk-container-id-3 div.sk-serial {display: flex;flex-direction: column;align-items: center;background-color: white;padding-right: 0.2em;padding-left: 0.2em;position: relative;}#sk-container-id-3 div.sk-item {position: relative;z-index: 1;}#sk-container-id-3 div.sk-parallel {display: flex;align-items: stretch;justify-content: center;background-color: white;position: relative;}#sk-container-id-3 div.sk-item::before, #sk-container-id-3 div.sk-parallel-item::before {content: \"\";position: absolute;border-left: 1px solid gray;box-sizing: border-box;top: 0;bottom: 0;left: 50%;z-index: -1;}#sk-container-id-3 div.sk-parallel-item {display: flex;flex-direction: column;z-index: 1;position: relative;background-color: white;}#sk-container-id-3 div.sk-parallel-item:first-child::after {align-self: flex-end;width: 50%;}#sk-container-id-3 div.sk-parallel-item:last-child::after {align-self: flex-start;width: 50%;}#sk-container-id-3 div.sk-parallel-item:only-child::after {width: 0;}#sk-container-id-3 div.sk-dashed-wrapped {border: 1px dashed gray;margin: 0 0.4em 0.5em 0.4em;box-sizing: border-box;padding-bottom: 0.4em;background-color: white;}#sk-container-id-3 div.sk-label label {font-family: monospace;font-weight: bold;display: inline-block;line-height: 1.2em;}#sk-container-id-3 div.sk-label-container {text-align: center;}#sk-container-id-3 div.sk-container {/* jupyter's `normalize.less` sets `[hidden] { display: none; }` but bootstrap.min.css set `[hidden] { display: none !important; }` so we also need the `!important` here to be able to override the default hidden behavior on the sphinx rendered scikit-learn.org. See: https://github.com/scikit-learn/scikit-learn/issues/21755 */display: inline-block !important;position: relative;}#sk-container-id-3 div.sk-text-repr-fallback {display: none;}</style><div id=\"sk-container-id-3\" class=\"sk-top-container\"><div class=\"sk-text-repr-fallback\"><pre>KMeans(n_clusters=4)</pre><b>In a Jupyter environment, please rerun this cell to show the HTML representation or trust the notebook. <br />On GitHub, the HTML representation is unable to render, please try loading this page with nbviewer.org.</b></div><div class=\"sk-container\" hidden><div class=\"sk-item\"><div class=\"sk-estimator sk-toggleable\"><input class=\"sk-toggleable__control sk-hidden--visually\" id=\"sk-estimator-id-3\" type=\"checkbox\" checked><label for=\"sk-estimator-id-3\" class=\"sk-toggleable__label sk-toggleable__label-arrow\">KMeans</label><div class=\"sk-toggleable__content\"><pre>KMeans(n_clusters=4)</pre></div></div></div></div></div>"
            ]
          },
          "metadata": {},
          "execution_count": 136
        }
      ]
    },
    {
      "cell_type": "code",
      "source": [
        "cluster_labels=km.predict(x)"
      ],
      "metadata": {
        "id": "RxTmW5Lh1B3t"
      },
      "execution_count": 137,
      "outputs": []
    },
    {
      "cell_type": "code",
      "source": [
        "cluster_labels"
      ],
      "metadata": {
        "colab": {
          "base_uri": "https://localhost:8080/"
        },
        "id": "MR1WfwlYHGaR",
        "outputId": "63a1935e-049d-4a50-c61a-098b355e5ce0"
      },
      "execution_count": 138,
      "outputs": [
        {
          "output_type": "execute_result",
          "data": {
            "text/plain": [
              "array([3, 3, 3, 3, 3, 3, 3, 3, 3, 3, 3, 3, 3, 3, 3, 3, 3, 3, 3, 3, 3, 3,\n",
              "       3, 0, 0, 0, 0, 3, 0, 3, 3, 3, 3, 0, 2, 2, 2, 2, 2, 2, 2, 0, 0, 0,\n",
              "       0, 0, 0, 0, 0, 0, 0, 0, 0, 0, 0, 1, 1, 1, 1, 1, 1, 1, 1, 1],\n",
              "      dtype=int32)"
            ]
          },
          "metadata": {},
          "execution_count": 138
        }
      ]
    },
    {
      "cell_type": "code",
      "source": [
        "pd.Series(cluster_labels).value_counts()"
      ],
      "metadata": {
        "colab": {
          "base_uri": "https://localhost:8080/"
        },
        "id": "Pn9GYlYoHNEl",
        "outputId": "96de188b-dded-441d-ecc6-a557526be05b"
      },
      "execution_count": 139,
      "outputs": [
        {
          "output_type": "execute_result",
          "data": {
            "text/plain": [
              "3    28\n",
              "0    20\n",
              "1     9\n",
              "2     7\n",
              "dtype: int64"
            ]
          },
          "metadata": {},
          "execution_count": 139
        }
      ]
    },
    {
      "cell_type": "code",
      "source": [],
      "metadata": {
        "id": "FCEOQmHcHjaJ"
      },
      "execution_count": 139,
      "outputs": []
    },
    {
      "cell_type": "code",
      "source": [
        "km.inertia_"
      ],
      "metadata": {
        "colab": {
          "base_uri": "https://localhost:8080/"
        },
        "id": "YhF2sP5mHn9m",
        "outputId": "5a83a508-6b5c-4b00-adf7-b191a4a74a1e"
      },
      "execution_count": 140,
      "outputs": [
        {
          "output_type": "execute_result",
          "data": {
            "text/plain": [
              "200206.4032920873"
            ]
          },
          "metadata": {},
          "execution_count": 140
        }
      ]
    },
    {
      "cell_type": "code",
      "source": [
        "inertia_list=[]\n",
        "\n",
        "for i in range(1,11):\n",
        "  km=KMeans(n_clusters=i,n_init=20)\n",
        "  km.fit(x)\n",
        "  inertia=km.inertia_\n",
        "  inertia_list.append(inertia)"
      ],
      "metadata": {
        "id": "o-YgrgBNHsM2"
      },
      "execution_count": 141,
      "outputs": []
    },
    {
      "cell_type": "code",
      "source": [
        "inertia_list"
      ],
      "metadata": {
        "colab": {
          "base_uri": "https://localhost:8080/"
        },
        "id": "e51hMTVfLU2g",
        "outputId": "b40d78a9-5684-41ff-c9ea-8ca65b12da65"
      },
      "execution_count": 142,
      "outputs": [
        {
          "output_type": "execute_result",
          "data": {
            "text/plain": [
              "[267862.4091291161,\n",
              " 236481.84121489755,\n",
              " 215746.3208514057,\n",
              " 200810.07456843043,\n",
              " 190273.4049560923,\n",
              " 184688.73782919612,\n",
              " 176345.0869698316,\n",
              " 165648.04037122623,\n",
              " 159957.02868697233,\n",
              " 153387.75849002125]"
            ]
          },
          "metadata": {},
          "execution_count": 142
        }
      ]
    },
    {
      "cell_type": "code",
      "source": [],
      "metadata": {
        "id": "iHFcjvP-LaXm"
      },
      "execution_count": 142,
      "outputs": []
    },
    {
      "cell_type": "code",
      "source": [
        "plt.plot(range(1,11),inertia_list)\n",
        "plt.xlabel(\"number of clusters\")\n",
        "plt.ylabel('inertia')"
      ],
      "metadata": {
        "colab": {
          "base_uri": "https://localhost:8080/",
          "height": 466
        },
        "id": "riry6e-7LZ86",
        "outputId": "5d0a1ad6-4abd-405c-d7ca-a094b67debb8"
      },
      "execution_count": 143,
      "outputs": [
        {
          "output_type": "execute_result",
          "data": {
            "text/plain": [
              "Text(0, 0.5, 'inertia')"
            ]
          },
          "metadata": {},
          "execution_count": 143
        },
        {
          "output_type": "display_data",
          "data": {
            "text/plain": [
              "<Figure size 640x480 with 1 Axes>"
            ],
            "image/png": "[encoded data removed]"
          },
          "metadata": {}
        }
      ]
    },
    {
      "cell_type": "code",
      "source": [
        "km=KMeans(n_clusters=10,n_init=20)\n",
        "km.fit(x)\n",
        "cluster_labels=km.predict(x)"
      ],
      "metadata": {
        "id": "BuNAJ61tLswD"
      },
      "execution_count": 144,
      "outputs": []
    },
    {
      "cell_type": "code",
      "source": [
        "cluster_labels"
      ],
      "metadata": {
        "colab": {
          "base_uri": "https://localhost:8080/"
        },
        "id": "ddWv96VFL0j2",
        "outputId": "9d4e9155-5d82-46a0-bb1a-ee92d90d170f"
      },
      "execution_count": 145,
      "outputs": [
        {
          "output_type": "execute_result",
          "data": {
            "text/plain": [
              "array([2, 2, 2, 2, 2, 2, 2, 2, 2, 5, 7, 7, 7, 7, 7, 7, 7, 5, 2, 5, 5, 5,\n",
              "       2, 1, 1, 1, 5, 5, 5, 5, 5, 5, 5, 6, 3, 3, 3, 6, 8, 8, 6, 5, 9, 9,\n",
              "       9, 9, 9, 9, 0, 0, 0, 0, 9, 5, 5, 4, 4, 4, 4, 4, 4, 4, 4, 4],\n",
              "      dtype=int32)"
            ]
          },
          "metadata": {},
          "execution_count": 145
        }
      ]
    },
    {
      "cell_type": "code",
      "source": [
        "pd.Series(cluster_labels).value_counts()"
      ],
      "metadata": {
        "colab": {
          "base_uri": "https://localhost:8080/"
        },
        "id": "U_CiQ-2Hhuqv",
        "outputId": "32ba66ea-9711-49a6-c843-9138de466b26"
      },
      "execution_count": 146,
      "outputs": [
        {
          "output_type": "execute_result",
          "data": {
            "text/plain": [
              "5    15\n",
              "2    11\n",
              "4     9\n",
              "7     7\n",
              "9     7\n",
              "0     4\n",
              "1     3\n",
              "6     3\n",
              "3     3\n",
              "8     2\n",
              "dtype: int64"
            ]
          },
          "metadata": {},
          "execution_count": 146
        }
      ]
    },
    {
      "cell_type": "code",
      "source": [
        "from sklearn.decomposition import PCA"
      ],
      "metadata": {
        "id": "D6uggH8gimcC"
      },
      "execution_count": 147,
      "outputs": []
    },
    {
      "cell_type": "code",
      "source": [
        "pc = PCA(n_components=4)"
      ],
      "metadata": {
        "id": "73QbFee7ilr0"
      },
      "execution_count": 148,
      "outputs": []
    },
    {
      "cell_type": "code",
      "source": [
        "pc_array = pc.fit_transform(x)"
      ],
      "metadata": {
        "id": "0l1kbM5NjeYy"
      },
      "execution_count": 149,
      "outputs": []
    },
    {
      "cell_type": "code",
      "source": [
        "pc_array.shape"
      ],
      "metadata": {
        "colab": {
          "base_uri": "https://localhost:8080/"
        },
        "id": "CbLZp6snjd3-",
        "outputId": "4ec4e358-494f-44ec-b4b4-6b38e8081ab9"
      },
      "execution_count": 150,
      "outputs": [
        {
          "output_type": "execute_result",
          "data": {
            "text/plain": [
              "(64, 4)"
            ]
          },
          "metadata": {},
          "execution_count": 150
        }
      ]
    },
    {
      "cell_type": "code",
      "source": [
        "pc_data = pd.DataFrame(pc_array, columns = [\"pc1\",\"pc2\",\"pc3\",\"pc4\"])"
      ],
      "metadata": {
        "id": "FttrIwuzj1F4"
      },
      "execution_count": 151,
      "outputs": []
    },
    {
      "cell_type": "code",
      "source": [
        "pc_data.shape"
      ],
      "metadata": {
        "colab": {
          "base_uri": "https://localhost:8080/"
        },
        "id": "yaWdzELGj0lC",
        "outputId": "1e5aa244-4f74-44f8-de6d-b4eccadb3733"
      },
      "execution_count": 152,
      "outputs": [
        {
          "output_type": "execute_result",
          "data": {
            "text/plain": [
              "(64, 4)"
            ]
          },
          "metadata": {},
          "execution_count": 152
        }
      ]
    },
    {
      "cell_type": "code",
      "source": [
        "pc_data.corr().round(1)"
      ],
      "metadata": {
        "colab": {
          "base_uri": "https://localhost:8080/",
          "height": 175
        },
        "id": "OrEGgPXzC1sz",
        "outputId": "f80a6745-e54b-41ad-ffb8-2354460bc94d"
      },
      "execution_count": 153,
      "outputs": [
        {
          "output_type": "execute_result",
          "data": {
            "text/plain": [
              "     pc1  pc2  pc3  pc4\n",
              "pc1  1.0 -0.0 -0.0  0.0\n",
              "pc2 -0.0  1.0 -0.0 -0.0\n",
              "pc3 -0.0 -0.0  1.0  0.0\n",
              "pc4  0.0 -0.0  0.0  1.0"
            ],
            "text/html": [
              "\n",
              "  <div id=\"df-db85477a-0652-4dc6-93ff-28dfa5c9e9da\">\n",
              "    <div class=\"colab-df-container\">\n",
              "      <div>\n",
              "<style scoped>\n",
              "    .dataframe tbody tr th:only-of-type {\n",
              "        vertical-align: middle;\n",
              "    }\n",
              "\n",
              "    .dataframe tbody tr th {\n",
              "        vertical-align: top;\n",
              "    }\n",
              "\n",
              "    .dataframe thead th {\n",
              "        text-align: right;\n",
              "    }\n",
              "</style>\n",
              "<table border=\"1\" class=\"dataframe\">\n",
              "  <thead>\n",
              "    <tr style=\"text-align: right;\">\n",
              "      <th></th>\n",
              "      <th>pc1</th>\n",
              "      <th>pc2</th>\n",
              "      <th>pc3</th>\n",
              "      <th>pc4</th>\n",
              "    </tr>\n",
              "  </thead>\n",
              "  <tbody>\n",
              "    <tr>\n",
              "      <th>pc1</th>\n",
              "      <td>1.0</td>\n",
              "      <td>-0.0</td>\n",
              "      <td>-0.0</td>\n",
              "      <td>0.0</td>\n",
              "    </tr>\n",
              "    <tr>\n",
              "      <th>pc2</th>\n",
              "      <td>-0.0</td>\n",
              "      <td>1.0</td>\n",
              "      <td>-0.0</td>\n",
              "      <td>-0.0</td>\n",
              "    </tr>\n",
              "    <tr>\n",
              "      <th>pc3</th>\n",
              "      <td>-0.0</td>\n",
              "      <td>-0.0</td>\n",
              "      <td>1.0</td>\n",
              "      <td>0.0</td>\n",
              "    </tr>\n",
              "    <tr>\n",
              "      <th>pc4</th>\n",
              "      <td>0.0</td>\n",
              "      <td>-0.0</td>\n",
              "      <td>0.0</td>\n",
              "      <td>1.0</td>\n",
              "    </tr>\n",
              "  </tbody>\n",
              "</table>\n",
              "</div>\n",
              "      <button class=\"colab-df-convert\" onclick=\"convertToInteractive('df-db85477a-0652-4dc6-93ff-28dfa5c9e9da')\"\n",
              "              title=\"Convert this dataframe to an interactive table.\"\n",
              "              style=\"display:none;\">\n",
              "        \n",
              "  <svg xmlns=\"http://www.w3.org/2000/svg\" height=\"24px\"viewBox=\"0 0 24 24\"\n",
              "       width=\"24px\">\n",
              "    <path d=\"M0 0h24v24H0V0z\" fill=\"none\"/>\n",
              "    <path d=\"M18.56 5.44l.94 2.06.94-2.06 2.06-.94-2.06-.94-.94-2.06-.94 2.06-2.06.94zm-11 1L8.5 8.5l.94-2.06 2.06-.94-2.06-.94L8.5 2.5l-.94 2.06-2.06.94zm10 10l.94 2.06.94-2.06 2.06-.94-2.06-.94-.94-2.06-.94 2.06-2.06.94z\"/><path d=\"M17.41 7.96l-1.37-1.37c-.4-.4-.92-.59-1.43-.59-.52 0-1.04.2-1.43.59L10.3 9.45l-7.72 7.72c-.78.78-.78 2.05 0 2.83L4 21.41c.39.39.9.59 1.41.59.51 0 1.02-.2 1.41-.59l7.78-7.78 2.81-2.81c.8-.78.8-2.07 0-2.86zM5.41 20L4 18.59l7.72-7.72 1.47 1.35L5.41 20z\"/>\n",
              "  </svg>\n",
              "      </button>\n",
              "      \n",
              "  <style>\n",
              "    .colab-df-container {\n",
              "      display:flex;\n",
              "      flex-wrap:wrap;\n",
              "      gap: 12px;\n",
              "    }\n",
              "\n",
              "    .colab-df-convert {\n",
              "      background-color: #E8F0FE;\n",
              "      border: none;\n",
              "      border-radius: 50%;\n",
              "      cursor: pointer;\n",
              "      display: none;\n",
              "      fill: #1967D2;\n",
              "      height: 32px;\n",
              "      padding: 0 0 0 0;\n",
              "      width: 32px;\n",
              "    }\n",
              "\n",
              "    .colab-df-convert:hover {\n",
              "      background-color: #E2EBFA;\n",
              "      box-shadow: 0px 1px 2px rgba(60, 64, 67, 0.3), 0px 1px 3px 1px rgba(60, 64, 67, 0.15);\n",
              "      fill: #174EA6;\n",
              "    }\n",
              "\n",
              "    [theme=dark] .colab-df-convert {\n",
              "      background-color: #3B4455;\n",
              "      fill: #D2E3FC;\n",
              "    }\n",
              "\n",
              "    [theme=dark] .colab-df-convert:hover {\n",
              "      background-color: #434B5C;\n",
              "      box-shadow: 0px 1px 3px 1px rgba(0, 0, 0, 0.15);\n",
              "      filter: drop-shadow(0px 1px 2px rgba(0, 0, 0, 0.3));\n",
              "      fill: #FFFFFF;\n",
              "    }\n",
              "  </style>\n",
              "\n",
              "      <script>\n",
              "        const buttonEl =\n",
              "          document.querySelector('#df-db85477a-0652-4dc6-93ff-28dfa5c9e9da button.colab-df-convert');\n",
              "        buttonEl.style.display =\n",
              "          google.colab.kernel.accessAllowed ? 'block' : 'none';\n",
              "\n",
              "        async function convertToInteractive(key) {\n",
              "          const element = document.querySelector('#df-db85477a-0652-4dc6-93ff-28dfa5c9e9da');\n",
              "          const dataTable =\n",
              "            await google.colab.kernel.invokeFunction('convertToInteractive',\n",
              "                                                     [key], {});\n",
              "          if (!dataTable) return;\n",
              "\n",
              "          const docLinkHtml = 'Like what you see? Visit the ' +\n",
              "            '<a target=\"_blank\" href=https://colab.research.google.com/notebooks/data_table.ipynb>data table notebook</a>'\n",
              "            + ' to learn more about interactive tables.';\n",
              "          element.innerHTML = '';\n",
              "          dataTable['output_type'] = 'display_data';\n",
              "          await google.colab.output.renderOutput(dataTable, element);\n",
              "          const docLink = document.createElement('div');\n",
              "          docLink.innerHTML = docLinkHtml;\n",
              "          element.appendChild(docLink);\n",
              "        }\n",
              "      </script>\n",
              "    </div>\n",
              "  </div>\n",
              "  "
            ]
          },
          "metadata": {},
          "execution_count": 153
        }
      ]
    },
    {
      "cell_type": "code",
      "source": [],
      "metadata": {
        "id": "bO5zikAtC0yd"
      },
      "execution_count": 153,
      "outputs": []
    },
    {
      "cell_type": "code",
      "source": [
        "inertia_list=[]\n",
        "\n",
        "for i in range(1,11):\n",
        "  km=KMeans(n_clusters=i,n_init=20)\n",
        "  km.fit(pc_data)\n",
        "  inertia=km.inertia_\n",
        "  inertia_list.append(inertia)"
      ],
      "metadata": {
        "id": "KE40uU39kpb0"
      },
      "execution_count": 154,
      "outputs": []
    },
    {
      "cell_type": "code",
      "source": [
        "plt.plot(range(1,11),inertia_list)\n",
        "plt.xlabel(\"number of clusters\")\n",
        "plt.ylabel('inertia')"
      ],
      "metadata": {
        "colab": {
          "base_uri": "https://localhost:8080/",
          "height": 466
        },
        "id": "qWIE7pJStr4t",
        "outputId": "5f39bd5c-4cc6-42d3-9f2e-dc2ba58bbe7a"
      },
      "execution_count": 155,
      "outputs": [
        {
          "output_type": "execute_result",
          "data": {
            "text/plain": [
              "Text(0, 0.5, 'inertia')"
            ]
          },
          "metadata": {},
          "execution_count": 155
        },
        {
          "output_type": "display_data",
          "data": {
            "text/plain": [
              "<Figure size 640x480 with 1 Axes>"
            ],
            "image/png": "[encoded data removed]"
          },
          "metadata": {}
        }
      ]
    },
    {
      "cell_type": "code",
      "source": [
        "km=KMeans(n_clusters=5,n_init=20)\n",
        "km.fit(x)\n",
        "cluster_labels=km.predict(x)"
      ],
      "metadata": {
        "id": "_iFMEHgct5j2"
      },
      "execution_count": 156,
      "outputs": []
    },
    {
      "cell_type": "code",
      "source": [
        "cluster_labels"
      ],
      "metadata": {
        "colab": {
          "base_uri": "https://localhost:8080/"
        },
        "id": "kDf2eD4Yt83O",
        "outputId": "c7ace114-4f04-4b05-cb5a-4b4c05be8fe5"
      },
      "execution_count": 157,
      "outputs": [
        {
          "output_type": "execute_result",
          "data": {
            "text/plain": [
              "array([0, 0, 0, 0, 0, 0, 0, 0, 0, 0, 0, 0, 0, 0, 0, 0, 0, 0, 0, 0, 0, 0,\n",
              "       0, 3, 3, 3, 3, 0, 3, 0, 3, 3, 3, 2, 2, 2, 2, 2, 2, 2, 2, 3, 3, 3,\n",
              "       3, 3, 3, 3, 1, 1, 1, 1, 3, 3, 3, 4, 4, 4, 4, 4, 4, 4, 4, 4],\n",
              "      dtype=int32)"
            ]
          },
          "metadata": {},
          "execution_count": 157
        }
      ]
    },
    {
      "cell_type": "code",
      "source": [
        "pd.Series(cluster_labels).value_counts()"
      ],
      "metadata": {
        "colab": {
          "base_uri": "https://localhost:8080/"
        },
        "id": "I8DzIUMft47C",
        "outputId": "1c548a26-bc67-4cba-ee28-f8f8fc6c4ce2"
      },
      "execution_count": 158,
      "outputs": [
        {
          "output_type": "execute_result",
          "data": {
            "text/plain": [
              "0    25\n",
              "3    18\n",
              "4     9\n",
              "2     8\n",
              "1     4\n",
              "dtype: int64"
            ]
          },
          "metadata": {},
          "execution_count": 158
        }
      ]
    }
  ]
}